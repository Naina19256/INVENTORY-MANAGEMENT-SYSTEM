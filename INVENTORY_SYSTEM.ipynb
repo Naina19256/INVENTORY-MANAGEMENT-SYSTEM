{
  "nbformat": 4,
  "nbformat_minor": 0,
  "metadata": {
    "colab": {
      "name": "INVENTORY SYSTEM.ipynb",
      "provenance": [],
      "collapsed_sections": []
    },
    "kernelspec": {
      "name": "python3",
      "display_name": "Python 3"
    },
    "language_info": {
      "name": "python"
    }
  },
  "cells": [
    {
      "cell_type": "code",
      "metadata": {
        "id": "dueLZIMnFKDN"
      },
      "source": [
        "record={1001:{'name':'Dairy Milk','Brand':'Cadbury','Quantity':20,'Price':20,'Rating(out of 5)':3    } ,\n",
        "        1002:{'name':'Perk','Brand':'Cadbury','Quantity':20,'Price':30,'Rating(out of 5)':4   } ,\n",
        "        1003:{'name':'Fuse','Brand':'Cadbury','Quantity':20,'Price':10,'Rating(out of 5)':2    } ,\n",
        "        1004:{'name':'5 Star','Brand':'Cadbury','Quantity':20,'Price':50,'Rating(out of 5)':5    } ,\n",
        "        1005:{'name':'Bournville','Brand':'Cadbury','Quantity':20,'Price':60,'Rating(out of 5)':4    } ,\n",
        "        1006:{'name':'Dairy Milk Silk','Brand':'Cadbury','Quantity':20,'Price':80,'Rating(out of 5)':2    } ,\n",
        "        1007:{'name':'Milky Bar','Brand':'Netsle','Quantity':20,'Price':30,'Rating(out of 5)':4    } ,\n",
        "        1008:{'name':'KitKat','Brand':'Netsle','Quantity':20,'Price':100,'Rating(out of 5)':5    } ,\n",
        "        1009:{'name':'Munch','Brand':'Netsle','Quantity':20,'Price':30,'Rating(out of 5)':5    } ,\n",
        "        1010:{'name':'Bar One','Brand':'Netsle','Quantity':20,'Price':10,'Rating(out of 5)':5    } ,\n",
        "        1011:{'name':'Lemongrass','Brand':'Pacari','Quantity':20,'Price':20,'Rating(out of 5)':4    } ,\n",
        "        10012:{'name':'Golde berry','Brand':'Pacari','Quantity':20,'Price':15,'Rating(out of 5)':3.5    } ,\n",
        "        10013:{'name':'Passion fruit','Brand':'Pacari','Quantity':20,'Price':17,'Rating(out of 5)':3    } ,\n",
        "        1014:{'name':'Chilli exotic','Brand':'Pacari','Quantity':20,'Price':15,'Rating(out of 5)':4.5    } ,\n",
        "        1015:{'name':'Amul Chocozoo','Brand':'Amul','Quantity':20,'Price':20,'Rating(out of 5)':5    } ,\n",
        "        1016:{'name':'Amul wafer chocolates','Brand':'Amul','Quantity':20,'Price':20,'Rating(out of 5)':2    } ,\n",
        "        1017:{'name':'Amul rejoice assorted chocolates.','Brand':'Amul','Quantity':20,'Price':20,'Rating(out of 5)':1    } ,\n",
        "        1018:{'name':'Hide & Seek','Brand':'Parle','Quantity':20,'Price':20,'Rating(out of 5)':5    } ,\n",
        "        1019:{'name':'Londonderry','Brand':'Parle','Quantity':20,'Price':20,'Rating(out of 5)':3.5    } ,\n",
        "        1020:{'name':'2 in 1 Eclairs','Brand':'Parle','Quantity':20,'Price':20,'Rating(out of 5)':4.5    } ,\n",
        "        1021:{'name':'m&m','Brand':'Mars','Quantity':20,'Price':20,'Rating(out of 5)':4    } ,\n",
        "        1022:{'name':'Snickers','Brand':'Mars','Quantity':20,'Price':20,'Rating(out of 5)':3    } ,\n",
        "        1023:{'name':'3 Musketeers','Brand':'Mars','Quantity':20,'Price':20,'Rating(out of 5)':5    } ,\n",
        "        1024:{'name':'Twix','Brand':'Mars','Quantity':20,'Price':20,'Rating(out of 5)':3    } ,\n",
        "        1025:{'name':'Lotus dark chocolate','Brand':'Lotus','Quantity':20,'Price':20,'Rating(out of 5)':5    } ,\n",
        "        1026:{'name':'Campo Dark chocolate','Brand':'Campo','Quantity':20,'Price':20,'Rating(out of 5)':3.5    } ,\n",
        "        1027:{'name':'Campo sugar free chocolate','Brand':'Campo','Quantity':20,'Price':20,'Rating(out of 5)':4.5    } ,\n",
        "        1028:{'name':'Campo Soft and silky chocolate','Brand':'Campo','Quantity':20,'Price':20,'Rating(out of 5)':5    } ,\n",
        "        1029:{'name':'Aero Carame','Brand':'Netsle','Quantity':20,'Price':20,'Rating(out of 5)':2    } ,\n",
        "        1030:{'name':'Aero Dark','Brand':'Netsle','Quantity':20,'Price':20,'Rating(out of 5)':3    } \n",
        "        }"
      ],
      "execution_count": 107,
      "outputs": []
    },
    {
      "cell_type": "code",
      "metadata": {
        "id": "9MBgVXuKKpaf"
      },
      "source": [
        "import json"
      ],
      "execution_count": 108,
      "outputs": []
    },
    {
      "cell_type": "code",
      "metadata": {
        "id": "Fk-UsiISl9uP"
      },
      "source": [
        "js=json.dumps(record,skipkeys=False)"
      ],
      "execution_count": 109,
      "outputs": []
    },
    {
      "cell_type": "code",
      "metadata": {
        "colab": {
          "base_uri": "https://localhost:8080/",
          "height": 104
        },
        "id": "m7k8ZQAimqeD",
        "outputId": "204b71d5-c010-4b77-d66e-ba48a8d25cf2"
      },
      "source": [
        "js\n"
      ],
      "execution_count": 110,
      "outputs": [
        {
          "output_type": "execute_result",
          "data": {
            "application/vnd.google.colaboratory.intrinsic+json": {
              "type": "string"
            },
            "text/plain": [
              "'{\"1001\": {\"name\": \"Dairy Milk\", \"Brand\": \"Cadbury\", \"Quantity\": 20, \"Price\": 20, \"Rating(out of 5)\": 3}, \"1002\": {\"name\": \"Perk\", \"Brand\": \"Cadbury\", \"Quantity\": 20, \"Price\": 30, \"Rating(out of 5)\": 4}, \"1003\": {\"name\": \"Fuse\", \"Brand\": \"Cadbury\", \"Quantity\": 20, \"Price\": 10, \"Rating(out of 5)\": 2}, \"1004\": {\"name\": \"5 Star\", \"Brand\": \"Cadbury\", \"Quantity\": 20, \"Price\": 50, \"Rating(out of 5)\": 5}, \"1005\": {\"name\": \"Bournville\", \"Brand\": \"Cadbury\", \"Quantity\": 20, \"Price\": 60, \"Rating(out of 5)\": 4}, \"1006\": {\"name\": \"Dairy Milk Silk\", \"Brand\": \"Cadbury\", \"Quantity\": 20, \"Price\": 80, \"Rating(out of 5)\": 2}, \"1007\": {\"name\": \"Milky Bar\", \"Brand\": \"Netsle\", \"Quantity\": 20, \"Price\": 30, \"Rating(out of 5)\": 4}, \"1008\": {\"name\": \"KitKat\", \"Brand\": \"Netsle\", \"Quantity\": 20, \"Price\": 100, \"Rating(out of 5)\": 5}, \"1009\": {\"name\": \"Munch\", \"Brand\": \"Netsle\", \"Quantity\": 20, \"Price\": 30, \"Rating(out of 5)\": 5}, \"1010\": {\"name\": \"Bar One\", \"Brand\": \"Netsle\", \"Quantity\": 20, \"Price\": 10, \"Rating(out of 5)\": 5}, \"1011\": {\"name\": \"Lemongrass\", \"Brand\": \"Pacari\", \"Quantity\": 20, \"Price\": 20, \"Rating(out of 5)\": 4}, \"10012\": {\"name\": \"Golde berry\", \"Brand\": \"Pacari\", \"Quantity\": 20, \"Price\": 15, \"Rating(out of 5)\": 3.5}, \"10013\": {\"name\": \"Passion fruit\", \"Brand\": \"Pacari\", \"Quantity\": 20, \"Price\": 17, \"Rating(out of 5)\": 3}, \"1014\": {\"name\": \"Chilli exotic\", \"Brand\": \"Pacari\", \"Quantity\": 20, \"Price\": 15, \"Rating(out of 5)\": 4.5}, \"1015\": {\"name\": \"Amul Chocozoo\", \"Brand\": \"Amul\", \"Quantity\": 20, \"Price\": 20, \"Rating(out of 5)\": 5}, \"1016\": {\"name\": \"Amul wafer chocolates\", \"Brand\": \"Amul\", \"Quantity\": 20, \"Price\": 20, \"Rating(out of 5)\": 2}, \"1017\": {\"name\": \"Amul rejoice assorted chocolates.\", \"Brand\": \"Amul\", \"Quantity\": 20, \"Price\": 20, \"Rating(out of 5)\": 1}, \"1018\": {\"name\": \"Hide & Seek\", \"Brand\": \"Parle\", \"Quantity\": 20, \"Price\": 20, \"Rating(out of 5)\": 5}, \"1019\": {\"name\": \"Londonderry\", \"Brand\": \"Parle\", \"Quantity\": 20, \"Price\": 20, \"Rating(out of 5)\": 3.5}, \"1020\": {\"name\": \"2 in 1 Eclairs\", \"Brand\": \"Parle\", \"Quantity\": 20, \"Price\": 20, \"Rating(out of 5)\": 4.5}, \"1021\": {\"name\": \"m&m\", \"Brand\": \"Mars\", \"Quantity\": 20, \"Price\": 20, \"Rating(out of 5)\": 4}, \"1022\": {\"name\": \"Snickers\", \"Brand\": \"Mars\", \"Quantity\": 20, \"Price\": 20, \"Rating(out of 5)\": 3}, \"1023\": {\"name\": \"3 Musketeers\", \"Brand\": \"Mars\", \"Quantity\": 20, \"Price\": 20, \"Rating(out of 5)\": 5}, \"1024\": {\"name\": \"Twix\", \"Brand\": \"Mars\", \"Quantity\": 20, \"Price\": 20, \"Rating(out of 5)\": 3}, \"1025\": {\"name\": \"Lotus dark chocolate\", \"Brand\": \"Lotus\", \"Quantity\": 20, \"Price\": 20, \"Rating(out of 5)\": 5}, \"1026\": {\"name\": \"Campo Dark chocolate\", \"Brand\": \"Campo\", \"Quantity\": 20, \"Price\": 20, \"Rating(out of 5)\": 3.5}, \"1027\": {\"name\": \"Campo sugar free chocolate\", \"Brand\": \"Campo\", \"Quantity\": 20, \"Price\": 20, \"Rating(out of 5)\": 4.5}, \"1028\": {\"name\": \"Campo Soft and silky chocolate\", \"Brand\": \"Campo\", \"Quantity\": 20, \"Price\": 20, \"Rating(out of 5)\": 5}, \"1029\": {\"name\": \"Aero Carame\", \"Brand\": \"Netsle\", \"Quantity\": 20, \"Price\": 20, \"Rating(out of 5)\": 2}, \"1030\": {\"name\": \"Aero Dark\", \"Brand\": \"Netsle\", \"Quantity\": 20, \"Price\": 20, \"Rating(out of 5)\": 3}}'"
            ]
          },
          "metadata": {},
          "execution_count": 110
        }
      ]
    },
    {
      "cell_type": "code",
      "metadata": {
        "id": "ZVecsOQbmsI0"
      },
      "source": [
        "fd=open('RECORD.json','w')\n",
        "fd.write(js)\n",
        "fd.close()"
      ],
      "execution_count": 111,
      "outputs": []
    },
    {
      "cell_type": "code",
      "metadata": {
        "id": "lyqs02GWm9Eq"
      },
      "source": [
        "fd=open('RECORD.json','r')\n",
        "txt=fd.read()\n",
        "fd.close()"
      ],
      "execution_count": 112,
      "outputs": []
    },
    {
      "cell_type": "code",
      "metadata": {
        "colab": {
          "base_uri": "https://localhost:8080/",
          "height": 104
        },
        "id": "mwQstamnnXMw",
        "outputId": "e9e29891-5ade-459e-befc-1e6b85b2b286"
      },
      "source": [
        "txt"
      ],
      "execution_count": 113,
      "outputs": [
        {
          "output_type": "execute_result",
          "data": {
            "application/vnd.google.colaboratory.intrinsic+json": {
              "type": "string"
            },
            "text/plain": [
              "'{\"1001\": {\"name\": \"Dairy Milk\", \"Brand\": \"Cadbury\", \"Quantity\": 20, \"Price\": 20, \"Rating(out of 5)\": 3}, \"1002\": {\"name\": \"Perk\", \"Brand\": \"Cadbury\", \"Quantity\": 20, \"Price\": 30, \"Rating(out of 5)\": 4}, \"1003\": {\"name\": \"Fuse\", \"Brand\": \"Cadbury\", \"Quantity\": 20, \"Price\": 10, \"Rating(out of 5)\": 2}, \"1004\": {\"name\": \"5 Star\", \"Brand\": \"Cadbury\", \"Quantity\": 20, \"Price\": 50, \"Rating(out of 5)\": 5}, \"1005\": {\"name\": \"Bournville\", \"Brand\": \"Cadbury\", \"Quantity\": 20, \"Price\": 60, \"Rating(out of 5)\": 4}, \"1006\": {\"name\": \"Dairy Milk Silk\", \"Brand\": \"Cadbury\", \"Quantity\": 20, \"Price\": 80, \"Rating(out of 5)\": 2}, \"1007\": {\"name\": \"Milky Bar\", \"Brand\": \"Netsle\", \"Quantity\": 20, \"Price\": 30, \"Rating(out of 5)\": 4}, \"1008\": {\"name\": \"KitKat\", \"Brand\": \"Netsle\", \"Quantity\": 20, \"Price\": 100, \"Rating(out of 5)\": 5}, \"1009\": {\"name\": \"Munch\", \"Brand\": \"Netsle\", \"Quantity\": 20, \"Price\": 30, \"Rating(out of 5)\": 5}, \"1010\": {\"name\": \"Bar One\", \"Brand\": \"Netsle\", \"Quantity\": 20, \"Price\": 10, \"Rating(out of 5)\": 5}, \"1011\": {\"name\": \"Lemongrass\", \"Brand\": \"Pacari\", \"Quantity\": 20, \"Price\": 20, \"Rating(out of 5)\": 4}, \"10012\": {\"name\": \"Golde berry\", \"Brand\": \"Pacari\", \"Quantity\": 20, \"Price\": 15, \"Rating(out of 5)\": 3.5}, \"10013\": {\"name\": \"Passion fruit\", \"Brand\": \"Pacari\", \"Quantity\": 20, \"Price\": 17, \"Rating(out of 5)\": 3}, \"1014\": {\"name\": \"Chilli exotic\", \"Brand\": \"Pacari\", \"Quantity\": 20, \"Price\": 15, \"Rating(out of 5)\": 4.5}, \"1015\": {\"name\": \"Amul Chocozoo\", \"Brand\": \"Amul\", \"Quantity\": 20, \"Price\": 20, \"Rating(out of 5)\": 5}, \"1016\": {\"name\": \"Amul wafer chocolates\", \"Brand\": \"Amul\", \"Quantity\": 20, \"Price\": 20, \"Rating(out of 5)\": 2}, \"1017\": {\"name\": \"Amul rejoice assorted chocolates.\", \"Brand\": \"Amul\", \"Quantity\": 20, \"Price\": 20, \"Rating(out of 5)\": 1}, \"1018\": {\"name\": \"Hide & Seek\", \"Brand\": \"Parle\", \"Quantity\": 20, \"Price\": 20, \"Rating(out of 5)\": 5}, \"1019\": {\"name\": \"Londonderry\", \"Brand\": \"Parle\", \"Quantity\": 20, \"Price\": 20, \"Rating(out of 5)\": 3.5}, \"1020\": {\"name\": \"2 in 1 Eclairs\", \"Brand\": \"Parle\", \"Quantity\": 20, \"Price\": 20, \"Rating(out of 5)\": 4.5}, \"1021\": {\"name\": \"m&m\", \"Brand\": \"Mars\", \"Quantity\": 20, \"Price\": 20, \"Rating(out of 5)\": 4}, \"1022\": {\"name\": \"Snickers\", \"Brand\": \"Mars\", \"Quantity\": 20, \"Price\": 20, \"Rating(out of 5)\": 3}, \"1023\": {\"name\": \"3 Musketeers\", \"Brand\": \"Mars\", \"Quantity\": 20, \"Price\": 20, \"Rating(out of 5)\": 5}, \"1024\": {\"name\": \"Twix\", \"Brand\": \"Mars\", \"Quantity\": 20, \"Price\": 20, \"Rating(out of 5)\": 3}, \"1025\": {\"name\": \"Lotus dark chocolate\", \"Brand\": \"Lotus\", \"Quantity\": 20, \"Price\": 20, \"Rating(out of 5)\": 5}, \"1026\": {\"name\": \"Campo Dark chocolate\", \"Brand\": \"Campo\", \"Quantity\": 20, \"Price\": 20, \"Rating(out of 5)\": 3.5}, \"1027\": {\"name\": \"Campo sugar free chocolate\", \"Brand\": \"Campo\", \"Quantity\": 20, \"Price\": 20, \"Rating(out of 5)\": 4.5}, \"1028\": {\"name\": \"Campo Soft and silky chocolate\", \"Brand\": \"Campo\", \"Quantity\": 20, \"Price\": 20, \"Rating(out of 5)\": 5}, \"1029\": {\"name\": \"Aero Carame\", \"Brand\": \"Netsle\", \"Quantity\": 20, \"Price\": 20, \"Rating(out of 5)\": 2}, \"1030\": {\"name\": \"Aero Dark\", \"Brand\": \"Netsle\", \"Quantity\": 20, \"Price\": 20, \"Rating(out of 5)\": 3}}'"
            ]
          },
          "metadata": {},
          "execution_count": 113
        }
      ]
    },
    {
      "cell_type": "code",
      "metadata": {
        "id": "4BEY4Z_2nZxY"
      },
      "source": [
        "record=json.loads(txt)"
      ],
      "execution_count": 114,
      "outputs": []
    },
    {
      "cell_type": "code",
      "metadata": {
        "colab": {
          "base_uri": "https://localhost:8080/"
        },
        "id": "J8hore6Enj0r",
        "outputId": "caea3947-2112-497c-9378-bf1e2dd5c3e7"
      },
      "source": [
        "record"
      ],
      "execution_count": 115,
      "outputs": [
        {
          "output_type": "execute_result",
          "data": {
            "text/plain": [
              "{'1001': {'Brand': 'Cadbury',\n",
              "  'Price': 20,\n",
              "  'Quantity': 20,\n",
              "  'Rating(out of 5)': 3,\n",
              "  'name': 'Dairy Milk'},\n",
              " '10012': {'Brand': 'Pacari',\n",
              "  'Price': 15,\n",
              "  'Quantity': 20,\n",
              "  'Rating(out of 5)': 3.5,\n",
              "  'name': 'Golde berry'},\n",
              " '10013': {'Brand': 'Pacari',\n",
              "  'Price': 17,\n",
              "  'Quantity': 20,\n",
              "  'Rating(out of 5)': 3,\n",
              "  'name': 'Passion fruit'},\n",
              " '1002': {'Brand': 'Cadbury',\n",
              "  'Price': 30,\n",
              "  'Quantity': 20,\n",
              "  'Rating(out of 5)': 4,\n",
              "  'name': 'Perk'},\n",
              " '1003': {'Brand': 'Cadbury',\n",
              "  'Price': 10,\n",
              "  'Quantity': 20,\n",
              "  'Rating(out of 5)': 2,\n",
              "  'name': 'Fuse'},\n",
              " '1004': {'Brand': 'Cadbury',\n",
              "  'Price': 50,\n",
              "  'Quantity': 20,\n",
              "  'Rating(out of 5)': 5,\n",
              "  'name': '5 Star'},\n",
              " '1005': {'Brand': 'Cadbury',\n",
              "  'Price': 60,\n",
              "  'Quantity': 20,\n",
              "  'Rating(out of 5)': 4,\n",
              "  'name': 'Bournville'},\n",
              " '1006': {'Brand': 'Cadbury',\n",
              "  'Price': 80,\n",
              "  'Quantity': 20,\n",
              "  'Rating(out of 5)': 2,\n",
              "  'name': 'Dairy Milk Silk'},\n",
              " '1007': {'Brand': 'Netsle',\n",
              "  'Price': 30,\n",
              "  'Quantity': 20,\n",
              "  'Rating(out of 5)': 4,\n",
              "  'name': 'Milky Bar'},\n",
              " '1008': {'Brand': 'Netsle',\n",
              "  'Price': 100,\n",
              "  'Quantity': 20,\n",
              "  'Rating(out of 5)': 5,\n",
              "  'name': 'KitKat'},\n",
              " '1009': {'Brand': 'Netsle',\n",
              "  'Price': 30,\n",
              "  'Quantity': 20,\n",
              "  'Rating(out of 5)': 5,\n",
              "  'name': 'Munch'},\n",
              " '1010': {'Brand': 'Netsle',\n",
              "  'Price': 10,\n",
              "  'Quantity': 20,\n",
              "  'Rating(out of 5)': 5,\n",
              "  'name': 'Bar One'},\n",
              " '1011': {'Brand': 'Pacari',\n",
              "  'Price': 20,\n",
              "  'Quantity': 20,\n",
              "  'Rating(out of 5)': 4,\n",
              "  'name': 'Lemongrass'},\n",
              " '1014': {'Brand': 'Pacari',\n",
              "  'Price': 15,\n",
              "  'Quantity': 20,\n",
              "  'Rating(out of 5)': 4.5,\n",
              "  'name': 'Chilli exotic'},\n",
              " '1015': {'Brand': 'Amul',\n",
              "  'Price': 20,\n",
              "  'Quantity': 20,\n",
              "  'Rating(out of 5)': 5,\n",
              "  'name': 'Amul Chocozoo'},\n",
              " '1016': {'Brand': 'Amul',\n",
              "  'Price': 20,\n",
              "  'Quantity': 20,\n",
              "  'Rating(out of 5)': 2,\n",
              "  'name': 'Amul wafer chocolates'},\n",
              " '1017': {'Brand': 'Amul',\n",
              "  'Price': 20,\n",
              "  'Quantity': 20,\n",
              "  'Rating(out of 5)': 1,\n",
              "  'name': 'Amul rejoice assorted chocolates.'},\n",
              " '1018': {'Brand': 'Parle',\n",
              "  'Price': 20,\n",
              "  'Quantity': 20,\n",
              "  'Rating(out of 5)': 5,\n",
              "  'name': 'Hide & Seek'},\n",
              " '1019': {'Brand': 'Parle',\n",
              "  'Price': 20,\n",
              "  'Quantity': 20,\n",
              "  'Rating(out of 5)': 3.5,\n",
              "  'name': 'Londonderry'},\n",
              " '1020': {'Brand': 'Parle',\n",
              "  'Price': 20,\n",
              "  'Quantity': 20,\n",
              "  'Rating(out of 5)': 4.5,\n",
              "  'name': '2 in 1 Eclairs'},\n",
              " '1021': {'Brand': 'Mars',\n",
              "  'Price': 20,\n",
              "  'Quantity': 20,\n",
              "  'Rating(out of 5)': 4,\n",
              "  'name': 'm&m'},\n",
              " '1022': {'Brand': 'Mars',\n",
              "  'Price': 20,\n",
              "  'Quantity': 20,\n",
              "  'Rating(out of 5)': 3,\n",
              "  'name': 'Snickers'},\n",
              " '1023': {'Brand': 'Mars',\n",
              "  'Price': 20,\n",
              "  'Quantity': 20,\n",
              "  'Rating(out of 5)': 5,\n",
              "  'name': '3 Musketeers'},\n",
              " '1024': {'Brand': 'Mars',\n",
              "  'Price': 20,\n",
              "  'Quantity': 20,\n",
              "  'Rating(out of 5)': 3,\n",
              "  'name': 'Twix'},\n",
              " '1025': {'Brand': 'Lotus',\n",
              "  'Price': 20,\n",
              "  'Quantity': 20,\n",
              "  'Rating(out of 5)': 5,\n",
              "  'name': 'Lotus dark chocolate'},\n",
              " '1026': {'Brand': 'Campo',\n",
              "  'Price': 20,\n",
              "  'Quantity': 20,\n",
              "  'Rating(out of 5)': 3.5,\n",
              "  'name': 'Campo Dark chocolate'},\n",
              " '1027': {'Brand': 'Campo',\n",
              "  'Price': 20,\n",
              "  'Quantity': 20,\n",
              "  'Rating(out of 5)': 4.5,\n",
              "  'name': 'Campo sugar free chocolate'},\n",
              " '1028': {'Brand': 'Campo',\n",
              "  'Price': 20,\n",
              "  'Quantity': 20,\n",
              "  'Rating(out of 5)': 5,\n",
              "  'name': 'Campo Soft and silky chocolate'},\n",
              " '1029': {'Brand': 'Netsle',\n",
              "  'Price': 20,\n",
              "  'Quantity': 20,\n",
              "  'Rating(out of 5)': 2,\n",
              "  'name': 'Aero Carame'},\n",
              " '1030': {'Brand': 'Netsle',\n",
              "  'Price': 20,\n",
              "  'Quantity': 20,\n",
              "  'Rating(out of 5)': 3,\n",
              "  'name': 'Aero Dark'}}"
            ]
          },
          "metadata": {},
          "execution_count": 115
        }
      ]
    },
    {
      "cell_type": "markdown",
      "metadata": {
        "id": "5ixgQIIIoCcE"
      },
      "source": [
        "1**)** If you want to know the product details by inputing the product id"
      ]
    },
    {
      "cell_type": "code",
      "metadata": {
        "colab": {
          "base_uri": "https://localhost:8080/"
        },
        "id": "lS8ER98dnlTw",
        "outputId": "467b1c9a-6f51-4d08-d8c5-31ebf812fc4d"
      },
      "source": [
        "pid=input(\"ENTER THE VALID ID OF PRODUCT : \")\n",
        "for i in record:\n",
        "  if(i==pid):\n",
        "    j=record[i]\n",
        "    flag=True\n",
        "    break\n",
        "  else:\n",
        "    flag=False\n",
        "if(flag==True):\n",
        "  print(\"Name : \",j['name'])\n",
        "  print(\"Brand : \",j[\"Brand\"])\n",
        "  print('Quantity Available : ',j['Quantity'])\n",
        "  print('Rating : ',j['Rating(out of 5)'])\n",
        "  print(\"price : \",j['Price'])\n",
        "else:\n",
        "  print(\"Given id is not valid\")"
      ],
      "execution_count": 116,
      "outputs": [
        {
          "output_type": "stream",
          "name": "stdout",
          "text": [
            "ENTER THE VALID ID OF PRODUCT : 1004\n",
            "Name :  5 Star\n",
            "Brand :  Cadbury\n",
            "Quantity Available :  20\n",
            "Rating :  5\n",
            "price :  50\n"
          ]
        }
      ]
    },
    {
      "cell_type": "markdown",
      "metadata": {
        "id": "ph666ctXvqoG"
      },
      "source": [
        "2) If you want check that quantity of product in stock is availabe or not"
      ]
    },
    {
      "cell_type": "code",
      "metadata": {
        "colab": {
          "base_uri": "https://localhost:8080/"
        },
        "id": "3E_ylr9jpLH2",
        "outputId": "dd2df455-c4ec-4ac1-8bcb-fbda5e1b9ead"
      },
      "source": [
        "pid=input(\"ENTER THE  VALID PRODUCT ID\")\n",
        "n=int(input(\" ENTER THE QUANTITY OF PRODUCT YOU WANT\"))\n",
        "flag=False\n",
        "for i in record:\n",
        "  if(pid==i):\n",
        "    j=record[i]\n",
        "    t=j['Quantity']\n",
        "    flag=True\n",
        "    break\n",
        "  else:\n",
        "    flag=False\n",
        "if(flag==True):\n",
        "  if(t<n):\n",
        "    print(\" WE DOES NOT HAVE THIS QUNTITY OF PRODUCT\")\n",
        "  else:\n",
        "    print(\" THAT MUCH OF QUANTITY OF PRODUCT IS AVILABLE\")\n",
        "else:\n",
        "  print(\"ENTER THE VALID ID OF PRODUCT\")"
      ],
      "execution_count": 117,
      "outputs": [
        {
          "output_type": "stream",
          "name": "stdout",
          "text": [
            "ENTER THE  VALID PRODUCT ID1004\n",
            " ENTER THE QUANTITY OF PRODUCT YOU WANT15\n",
            " THAT MUCH OF QUANTITY OF PRODUCT IS AVILABLE\n"
          ]
        }
      ]
    },
    {
      "cell_type": "markdown",
      "metadata": {
        "id": "KXWCN_RZx5Q5"
      },
      "source": [
        "**3**) IF **YOU** WANT TO CHECK THE COST IF YOU PURCHASED THE **PRODUCT**"
      ]
    },
    {
      "cell_type": "code",
      "metadata": {
        "id": "yc9_Yy5wx3o0",
        "colab": {
          "base_uri": "https://localhost:8080/"
        },
        "outputId": "0d2b581d-db8a-49c8-f7da-2f534c95c207"
      },
      "source": [
        "pid=input(\"ENTER THE  VALID PRODUCT ID\")\n",
        "n=int(input(\"WRITE THE QUANTITY\"))\n",
        "flag=False\n",
        "if pid in record:\n",
        "  j=record[i]\n",
        "  p=j['Price']\n",
        "  flag=True\n",
        "\n",
        "\n",
        "if(flag==True):\n",
        "  print(\" THE COST WILL BE : \",n*p)\n",
        "else:\n",
        "  print(\"ENTER THE VALID ID OF PRODUCT\")"
      ],
      "execution_count": 118,
      "outputs": [
        {
          "output_type": "stream",
          "name": "stdout",
          "text": [
            "ENTER THE  VALID PRODUCT ID1004\n",
            "WRITE THE QUANTITY2\n",
            " THE COST WILL BE :  100\n"
          ]
        }
      ]
    },
    {
      "cell_type": "markdown",
      "metadata": {
        "id": "i1OrQQo01OnA"
      },
      "source": [
        "4) IF I PURCHASERD THE PRODUCT"
      ]
    },
    {
      "cell_type": "code",
      "metadata": {
        "id": "pwEqme8_1Npc",
        "colab": {
          "base_uri": "https://localhost:8080/"
        },
        "outputId": "0b24fb23-c2b9-416b-ec50-e44acf24d6ab"
      },
      "source": [
        "pid=input(\"ENTER THE  VALID PRODUCT ID\")\n",
        "n=int(input(\"WRITE THE QUANTITY\"))\n",
        "flag=False\n",
        "for i in record:\n",
        "  if(pid==i):\n",
        "    j=record[i]\n",
        "    p=j['Price']\n",
        "    q=j['Quantity']\n",
        "    flag=True\n",
        "    break\n",
        "  else:\n",
        "    flag=False\n",
        "if(flag==True):\n",
        "  if(n<=q):\n",
        "    print('*************************BILL**********************')\n",
        "    print(\"Name : \",j['name'])\n",
        "    print(\"Brand : \",j[\"Brand\"])\n",
        "    print('Quantity Available : ',j['Quantity'])\n",
        "    print('Rating : ',j['Rating(out of 5)'])\n",
        "    print(\"price : \",j['Price'])\n",
        "    print(\" TOTAL AMOUNT \", n*p)\n",
        "    j['Quantity']=j['Quantity']-n\n",
        "  else:\n",
        "    print(\" THIS QUANTITY IS NOT AVAILABLE\")\n",
        "else:\n",
        "  print(\"ENTER THE VALID ID OF PRODUCT\")"
      ],
      "execution_count": 121,
      "outputs": [
        {
          "output_type": "stream",
          "name": "stdout",
          "text": [
            "ENTER THE  VALID PRODUCT ID1004\n",
            "WRITE THE QUANTITY2\n",
            "*************************BILL**********************\n",
            "Name :  5 Star\n",
            "Brand :  Cadbury\n",
            "Quantity Available :  20\n",
            "Rating :  5\n",
            "price :  50\n",
            " TOTAL AMOUNT  100\n"
          ]
        }
      ]
    },
    {
      "cell_type": "code",
      "metadata": {
        "colab": {
          "base_uri": "https://localhost:8080/"
        },
        "id": "azIol892xsfW",
        "outputId": "3b2cc329-0478-4d3e-fa4d-5166c254182d"
      },
      "source": [
        "record"
      ],
      "execution_count": 122,
      "outputs": [
        {
          "output_type": "execute_result",
          "data": {
            "text/plain": [
              "{'1001': {'Brand': 'Cadbury',\n",
              "  'Price': 20,\n",
              "  'Quantity': 20,\n",
              "  'Rating(out of 5)': 3,\n",
              "  'name': 'Dairy Milk'},\n",
              " '10012': {'Brand': 'Pacari',\n",
              "  'Price': 15,\n",
              "  'Quantity': 20,\n",
              "  'Rating(out of 5)': 3.5,\n",
              "  'name': 'Golde berry'},\n",
              " '10013': {'Brand': 'Pacari',\n",
              "  'Price': 17,\n",
              "  'Quantity': 20,\n",
              "  'Rating(out of 5)': 3,\n",
              "  'name': 'Passion fruit'},\n",
              " '1002': {'Brand': 'Cadbury',\n",
              "  'Price': 30,\n",
              "  'Quantity': 20,\n",
              "  'Rating(out of 5)': 4,\n",
              "  'name': 'Perk'},\n",
              " '1003': {'Brand': 'Cadbury',\n",
              "  'Price': 10,\n",
              "  'Quantity': 20,\n",
              "  'Rating(out of 5)': 2,\n",
              "  'name': 'Fuse'},\n",
              " '1004': {'Brand': 'Cadbury',\n",
              "  'Price': 50,\n",
              "  'QWuantity': 18,\n",
              "  'Quantity': 18,\n",
              "  'Rating(out of 5)': 5,\n",
              "  'name': '5 Star'},\n",
              " '1005': {'Brand': 'Cadbury',\n",
              "  'Price': 60,\n",
              "  'Quantity': 20,\n",
              "  'Rating(out of 5)': 4,\n",
              "  'name': 'Bournville'},\n",
              " '1006': {'Brand': 'Cadbury',\n",
              "  'Price': 80,\n",
              "  'Quantity': 20,\n",
              "  'Rating(out of 5)': 2,\n",
              "  'name': 'Dairy Milk Silk'},\n",
              " '1007': {'Brand': 'Netsle',\n",
              "  'Price': 30,\n",
              "  'Quantity': 20,\n",
              "  'Rating(out of 5)': 4,\n",
              "  'name': 'Milky Bar'},\n",
              " '1008': {'Brand': 'Netsle',\n",
              "  'Price': 100,\n",
              "  'Quantity': 20,\n",
              "  'Rating(out of 5)': 5,\n",
              "  'name': 'KitKat'},\n",
              " '1009': {'Brand': 'Netsle',\n",
              "  'Price': 30,\n",
              "  'Quantity': 20,\n",
              "  'Rating(out of 5)': 5,\n",
              "  'name': 'Munch'},\n",
              " '1010': {'Brand': 'Netsle',\n",
              "  'Price': 10,\n",
              "  'Quantity': 20,\n",
              "  'Rating(out of 5)': 5,\n",
              "  'name': 'Bar One'},\n",
              " '1011': {'Brand': 'Pacari',\n",
              "  'Price': 20,\n",
              "  'Quantity': 20,\n",
              "  'Rating(out of 5)': 4,\n",
              "  'name': 'Lemongrass'},\n",
              " '1014': {'Brand': 'Pacari',\n",
              "  'Price': 15,\n",
              "  'Quantity': 20,\n",
              "  'Rating(out of 5)': 4.5,\n",
              "  'name': 'Chilli exotic'},\n",
              " '1015': {'Brand': 'Amul',\n",
              "  'Price': 20,\n",
              "  'Quantity': 20,\n",
              "  'Rating(out of 5)': 5,\n",
              "  'name': 'Amul Chocozoo'},\n",
              " '1016': {'Brand': 'Amul',\n",
              "  'Price': 20,\n",
              "  'Quantity': 20,\n",
              "  'Rating(out of 5)': 2,\n",
              "  'name': 'Amul wafer chocolates'},\n",
              " '1017': {'Brand': 'Amul',\n",
              "  'Price': 20,\n",
              "  'Quantity': 20,\n",
              "  'Rating(out of 5)': 1,\n",
              "  'name': 'Amul rejoice assorted chocolates.'},\n",
              " '1018': {'Brand': 'Parle',\n",
              "  'Price': 20,\n",
              "  'Quantity': 20,\n",
              "  'Rating(out of 5)': 5,\n",
              "  'name': 'Hide & Seek'},\n",
              " '1019': {'Brand': 'Parle',\n",
              "  'Price': 20,\n",
              "  'Quantity': 20,\n",
              "  'Rating(out of 5)': 3.5,\n",
              "  'name': 'Londonderry'},\n",
              " '1020': {'Brand': 'Parle',\n",
              "  'Price': 20,\n",
              "  'Quantity': 20,\n",
              "  'Rating(out of 5)': 4.5,\n",
              "  'name': '2 in 1 Eclairs'},\n",
              " '1021': {'Brand': 'Mars',\n",
              "  'Price': 20,\n",
              "  'Quantity': 20,\n",
              "  'Rating(out of 5)': 4,\n",
              "  'name': 'm&m'},\n",
              " '1022': {'Brand': 'Mars',\n",
              "  'Price': 20,\n",
              "  'Quantity': 20,\n",
              "  'Rating(out of 5)': 3,\n",
              "  'name': 'Snickers'},\n",
              " '1023': {'Brand': 'Mars',\n",
              "  'Price': 20,\n",
              "  'Quantity': 20,\n",
              "  'Rating(out of 5)': 5,\n",
              "  'name': '3 Musketeers'},\n",
              " '1024': {'Brand': 'Mars',\n",
              "  'Price': 20,\n",
              "  'Quantity': 20,\n",
              "  'Rating(out of 5)': 3,\n",
              "  'name': 'Twix'},\n",
              " '1025': {'Brand': 'Lotus',\n",
              "  'Price': 20,\n",
              "  'Quantity': 20,\n",
              "  'Rating(out of 5)': 5,\n",
              "  'name': 'Lotus dark chocolate'},\n",
              " '1026': {'Brand': 'Campo',\n",
              "  'Price': 20,\n",
              "  'Quantity': 20,\n",
              "  'Rating(out of 5)': 3.5,\n",
              "  'name': 'Campo Dark chocolate'},\n",
              " '1027': {'Brand': 'Campo',\n",
              "  'Price': 20,\n",
              "  'Quantity': 20,\n",
              "  'Rating(out of 5)': 4.5,\n",
              "  'name': 'Campo sugar free chocolate'},\n",
              " '1028': {'Brand': 'Campo',\n",
              "  'Price': 20,\n",
              "  'Quantity': 20,\n",
              "  'Rating(out of 5)': 5,\n",
              "  'name': 'Campo Soft and silky chocolate'},\n",
              " '1029': {'Brand': 'Netsle',\n",
              "  'Price': 20,\n",
              "  'Quantity': 20,\n",
              "  'Rating(out of 5)': 2,\n",
              "  'name': 'Aero Carame'},\n",
              " '1030': {'Brand': 'Netsle',\n",
              "  'Price': 20,\n",
              "  'Quantity': 20,\n",
              "  'Rating(out of 5)': 3,\n",
              "  'name': 'Aero Dark'}}"
            ]
          },
          "metadata": {},
          "execution_count": 122
        }
      ]
    },
    {
      "cell_type": "code",
      "metadata": {
        "id": "O4rHbb4m8i1u"
      },
      "source": [
        "record=json.dumps(record)"
      ],
      "execution_count": 123,
      "outputs": []
    },
    {
      "cell_type": "code",
      "metadata": {
        "colab": {
          "base_uri": "https://localhost:8080/",
          "height": 277
        },
        "id": "olBS2aFV9PvV",
        "outputId": "a11006ad-0869-459e-83ae-f46310500d98"
      },
      "source": [
        "record"
      ],
      "execution_count": 124,
      "outputs": [
        {
          "output_type": "execute_result",
          "data": {
            "application/vnd.google.colaboratory.intrinsic+json": {
              "type": "string"
            },
            "text/plain": [
              "'{\"1001\": {\"name\": \"Dairy Milk\", \"Brand\": \"Cadbury\", \"Quantity\": 20, \"Price\": 20, \"Rating(out of 5)\": 3}, \"1002\": {\"name\": \"Perk\", \"Brand\": \"Cadbury\", \"Quantity\": 20, \"Price\": 30, \"Rating(out of 5)\": 4}, \"1003\": {\"name\": \"Fuse\", \"Brand\": \"Cadbury\", \"Quantity\": 20, \"Price\": 10, \"Rating(out of 5)\": 2}, \"1004\": {\"name\": \"5 Star\", \"Brand\": \"Cadbury\", \"Quantity\": 18, \"Price\": 50, \"Rating(out of 5)\": 5, \"QWuantity\": 18}, \"1005\": {\"name\": \"Bournville\", \"Brand\": \"Cadbury\", \"Quantity\": 20, \"Price\": 60, \"Rating(out of 5)\": 4}, \"1006\": {\"name\": \"Dairy Milk Silk\", \"Brand\": \"Cadbury\", \"Quantity\": 20, \"Price\": 80, \"Rating(out of 5)\": 2}, \"1007\": {\"name\": \"Milky Bar\", \"Brand\": \"Netsle\", \"Quantity\": 20, \"Price\": 30, \"Rating(out of 5)\": 4}, \"1008\": {\"name\": \"KitKat\", \"Brand\": \"Netsle\", \"Quantity\": 20, \"Price\": 100, \"Rating(out of 5)\": 5}, \"1009\": {\"name\": \"Munch\", \"Brand\": \"Netsle\", \"Quantity\": 20, \"Price\": 30, \"Rating(out of 5)\": 5}, \"1010\": {\"name\": \"Bar One\", \"Brand\": \"Netsle\", \"Quantity\": 20, \"Price\": 10, \"Rating(out of 5)\": 5}, \"1011\": {\"name\": \"Lemongrass\", \"Brand\": \"Pacari\", \"Quantity\": 20, \"Price\": 20, \"Rating(out of 5)\": 4}, \"10012\": {\"name\": \"Golde berry\", \"Brand\": \"Pacari\", \"Quantity\": 20, \"Price\": 15, \"Rating(out of 5)\": 3.5}, \"10013\": {\"name\": \"Passion fruit\", \"Brand\": \"Pacari\", \"Quantity\": 20, \"Price\": 17, \"Rating(out of 5)\": 3}, \"1014\": {\"name\": \"Chilli exotic\", \"Brand\": \"Pacari\", \"Quantity\": 20, \"Price\": 15, \"Rating(out of 5)\": 4.5}, \"1015\": {\"name\": \"Amul Chocozoo\", \"Brand\": \"Amul\", \"Quantity\": 20, \"Price\": 20, \"Rating(out of 5)\": 5}, \"1016\": {\"name\": \"Amul wafer chocolates\", \"Brand\": \"Amul\", \"Quantity\": 20, \"Price\": 20, \"Rating(out of 5)\": 2}, \"1017\": {\"name\": \"Amul rejoice assorted chocolates.\", \"Brand\": \"Amul\", \"Quantity\": 20, \"Price\": 20, \"Rating(out of 5)\": 1}, \"1018\": {\"name\": \"Hide & Seek\", \"Brand\": \"Parle\", \"Quantity\": 20, \"Price\": 20, \"Rating(out of 5)\": 5}, \"1019\": {\"name\": \"Londonderry\", \"Brand\": \"Parle\", \"Quantity\": 20, \"Price\": 20, \"Rating(out of 5)\": 3.5}, \"1020\": {\"name\": \"2 in 1 Eclairs\", \"Brand\": \"Parle\", \"Quantity\": 20, \"Price\": 20, \"Rating(out of 5)\": 4.5}, \"1021\": {\"name\": \"m&m\", \"Brand\": \"Mars\", \"Quantity\": 20, \"Price\": 20, \"Rating(out of 5)\": 4}, \"1022\": {\"name\": \"Snickers\", \"Brand\": \"Mars\", \"Quantity\": 20, \"Price\": 20, \"Rating(out of 5)\": 3}, \"1023\": {\"name\": \"3 Musketeers\", \"Brand\": \"Mars\", \"Quantity\": 20, \"Price\": 20, \"Rating(out of 5)\": 5}, \"1024\": {\"name\": \"Twix\", \"Brand\": \"Mars\", \"Quantity\": 20, \"Price\": 20, \"Rating(out of 5)\": 3}, \"1025\": {\"name\": \"Lotus dark chocolate\", \"Brand\": \"Lotus\", \"Quantity\": 20, \"Price\": 20, \"Rating(out of 5)\": 5}, \"1026\": {\"name\": \"Campo Dark chocolate\", \"Brand\": \"Campo\", \"Quantity\": 20, \"Price\": 20, \"Rating(out of 5)\": 3.5}, \"1027\": {\"name\": \"Campo sugar free chocolate\", \"Brand\": \"Campo\", \"Quantity\": 20, \"Price\": 20, \"Rating(out of 5)\": 4.5}, \"1028\": {\"name\": \"Campo Soft and silky chocolate\", \"Brand\": \"Campo\", \"Quantity\": 20, \"Price\": 20, \"Rating(out of 5)\": 5}, \"1029\": {\"name\": \"Aero Carame\", \"Brand\": \"Netsle\", \"Quantity\": 20, \"Price\": 20, \"Rating(out of 5)\": 2}, \"1030\": {\"name\": \"Aero Dark\", \"Brand\": \"Netsle\", \"Quantity\": 20, \"Price\": 20, \"Rating(out of 5)\": 3}}'"
            ]
          },
          "metadata": {},
          "execution_count": 124
        }
      ]
    },
    {
      "cell_type": "code",
      "metadata": {
        "id": "3Sc_d5K9Kj5V"
      },
      "source": [
        ""
      ],
      "execution_count": 98,
      "outputs": []
    },
    {
      "cell_type": "code",
      "metadata": {
        "colab": {
          "base_uri": "https://localhost:8080/",
          "height": 277
        },
        "id": "alV6My2GKrWV",
        "outputId": "6f0235db-4c64-49c5-a27b-3fce68c9b99b"
      },
      "source": [
        "record"
      ],
      "execution_count": 125,
      "outputs": [
        {
          "output_type": "execute_result",
          "data": {
            "application/vnd.google.colaboratory.intrinsic+json": {
              "type": "string"
            },
            "text/plain": [
              "'{\"1001\": {\"name\": \"Dairy Milk\", \"Brand\": \"Cadbury\", \"Quantity\": 20, \"Price\": 20, \"Rating(out of 5)\": 3}, \"1002\": {\"name\": \"Perk\", \"Brand\": \"Cadbury\", \"Quantity\": 20, \"Price\": 30, \"Rating(out of 5)\": 4}, \"1003\": {\"name\": \"Fuse\", \"Brand\": \"Cadbury\", \"Quantity\": 20, \"Price\": 10, \"Rating(out of 5)\": 2}, \"1004\": {\"name\": \"5 Star\", \"Brand\": \"Cadbury\", \"Quantity\": 18, \"Price\": 50, \"Rating(out of 5)\": 5, \"QWuantity\": 18}, \"1005\": {\"name\": \"Bournville\", \"Brand\": \"Cadbury\", \"Quantity\": 20, \"Price\": 60, \"Rating(out of 5)\": 4}, \"1006\": {\"name\": \"Dairy Milk Silk\", \"Brand\": \"Cadbury\", \"Quantity\": 20, \"Price\": 80, \"Rating(out of 5)\": 2}, \"1007\": {\"name\": \"Milky Bar\", \"Brand\": \"Netsle\", \"Quantity\": 20, \"Price\": 30, \"Rating(out of 5)\": 4}, \"1008\": {\"name\": \"KitKat\", \"Brand\": \"Netsle\", \"Quantity\": 20, \"Price\": 100, \"Rating(out of 5)\": 5}, \"1009\": {\"name\": \"Munch\", \"Brand\": \"Netsle\", \"Quantity\": 20, \"Price\": 30, \"Rating(out of 5)\": 5}, \"1010\": {\"name\": \"Bar One\", \"Brand\": \"Netsle\", \"Quantity\": 20, \"Price\": 10, \"Rating(out of 5)\": 5}, \"1011\": {\"name\": \"Lemongrass\", \"Brand\": \"Pacari\", \"Quantity\": 20, \"Price\": 20, \"Rating(out of 5)\": 4}, \"10012\": {\"name\": \"Golde berry\", \"Brand\": \"Pacari\", \"Quantity\": 20, \"Price\": 15, \"Rating(out of 5)\": 3.5}, \"10013\": {\"name\": \"Passion fruit\", \"Brand\": \"Pacari\", \"Quantity\": 20, \"Price\": 17, \"Rating(out of 5)\": 3}, \"1014\": {\"name\": \"Chilli exotic\", \"Brand\": \"Pacari\", \"Quantity\": 20, \"Price\": 15, \"Rating(out of 5)\": 4.5}, \"1015\": {\"name\": \"Amul Chocozoo\", \"Brand\": \"Amul\", \"Quantity\": 20, \"Price\": 20, \"Rating(out of 5)\": 5}, \"1016\": {\"name\": \"Amul wafer chocolates\", \"Brand\": \"Amul\", \"Quantity\": 20, \"Price\": 20, \"Rating(out of 5)\": 2}, \"1017\": {\"name\": \"Amul rejoice assorted chocolates.\", \"Brand\": \"Amul\", \"Quantity\": 20, \"Price\": 20, \"Rating(out of 5)\": 1}, \"1018\": {\"name\": \"Hide & Seek\", \"Brand\": \"Parle\", \"Quantity\": 20, \"Price\": 20, \"Rating(out of 5)\": 5}, \"1019\": {\"name\": \"Londonderry\", \"Brand\": \"Parle\", \"Quantity\": 20, \"Price\": 20, \"Rating(out of 5)\": 3.5}, \"1020\": {\"name\": \"2 in 1 Eclairs\", \"Brand\": \"Parle\", \"Quantity\": 20, \"Price\": 20, \"Rating(out of 5)\": 4.5}, \"1021\": {\"name\": \"m&m\", \"Brand\": \"Mars\", \"Quantity\": 20, \"Price\": 20, \"Rating(out of 5)\": 4}, \"1022\": {\"name\": \"Snickers\", \"Brand\": \"Mars\", \"Quantity\": 20, \"Price\": 20, \"Rating(out of 5)\": 3}, \"1023\": {\"name\": \"3 Musketeers\", \"Brand\": \"Mars\", \"Quantity\": 20, \"Price\": 20, \"Rating(out of 5)\": 5}, \"1024\": {\"name\": \"Twix\", \"Brand\": \"Mars\", \"Quantity\": 20, \"Price\": 20, \"Rating(out of 5)\": 3}, \"1025\": {\"name\": \"Lotus dark chocolate\", \"Brand\": \"Lotus\", \"Quantity\": 20, \"Price\": 20, \"Rating(out of 5)\": 5}, \"1026\": {\"name\": \"Campo Dark chocolate\", \"Brand\": \"Campo\", \"Quantity\": 20, \"Price\": 20, \"Rating(out of 5)\": 3.5}, \"1027\": {\"name\": \"Campo sugar free chocolate\", \"Brand\": \"Campo\", \"Quantity\": 20, \"Price\": 20, \"Rating(out of 5)\": 4.5}, \"1028\": {\"name\": \"Campo Soft and silky chocolate\", \"Brand\": \"Campo\", \"Quantity\": 20, \"Price\": 20, \"Rating(out of 5)\": 5}, \"1029\": {\"name\": \"Aero Carame\", \"Brand\": \"Netsle\", \"Quantity\": 20, \"Price\": 20, \"Rating(out of 5)\": 2}, \"1030\": {\"name\": \"Aero Dark\", \"Brand\": \"Netsle\", \"Quantity\": 20, \"Price\": 20, \"Rating(out of 5)\": 3}}'"
            ]
          },
          "metadata": {},
          "execution_count": 125
        }
      ]
    },
    {
      "cell_type": "code",
      "metadata": {
        "id": "CDb9APqB9SdT"
      },
      "source": [
        "fd=open('RECORD.json','w')\n",
        "fd.write(record)\n",
        "fd.close()"
      ],
      "execution_count": 126,
      "outputs": []
    },
    {
      "cell_type": "code",
      "metadata": {
        "id": "5igDxyQK9mbW"
      },
      "source": [
        "fd=open(\"RECORD.json\",'r')\n",
        "txt=fd.read()\n",
        "fd.close()"
      ],
      "execution_count": 127,
      "outputs": []
    },
    {
      "cell_type": "code",
      "metadata": {
        "id": "Dz5pUxEv9ysA",
        "colab": {
          "base_uri": "https://localhost:8080/",
          "height": 277
        },
        "outputId": "04c74c8c-b299-4b2f-8a6f-3693d8963be0"
      },
      "source": [
        "txt"
      ],
      "execution_count": 128,
      "outputs": [
        {
          "output_type": "execute_result",
          "data": {
            "application/vnd.google.colaboratory.intrinsic+json": {
              "type": "string"
            },
            "text/plain": [
              "'{\"1001\": {\"name\": \"Dairy Milk\", \"Brand\": \"Cadbury\", \"Quantity\": 20, \"Price\": 20, \"Rating(out of 5)\": 3}, \"1002\": {\"name\": \"Perk\", \"Brand\": \"Cadbury\", \"Quantity\": 20, \"Price\": 30, \"Rating(out of 5)\": 4}, \"1003\": {\"name\": \"Fuse\", \"Brand\": \"Cadbury\", \"Quantity\": 20, \"Price\": 10, \"Rating(out of 5)\": 2}, \"1004\": {\"name\": \"5 Star\", \"Brand\": \"Cadbury\", \"Quantity\": 18, \"Price\": 50, \"Rating(out of 5)\": 5, \"QWuantity\": 18}, \"1005\": {\"name\": \"Bournville\", \"Brand\": \"Cadbury\", \"Quantity\": 20, \"Price\": 60, \"Rating(out of 5)\": 4}, \"1006\": {\"name\": \"Dairy Milk Silk\", \"Brand\": \"Cadbury\", \"Quantity\": 20, \"Price\": 80, \"Rating(out of 5)\": 2}, \"1007\": {\"name\": \"Milky Bar\", \"Brand\": \"Netsle\", \"Quantity\": 20, \"Price\": 30, \"Rating(out of 5)\": 4}, \"1008\": {\"name\": \"KitKat\", \"Brand\": \"Netsle\", \"Quantity\": 20, \"Price\": 100, \"Rating(out of 5)\": 5}, \"1009\": {\"name\": \"Munch\", \"Brand\": \"Netsle\", \"Quantity\": 20, \"Price\": 30, \"Rating(out of 5)\": 5}, \"1010\": {\"name\": \"Bar One\", \"Brand\": \"Netsle\", \"Quantity\": 20, \"Price\": 10, \"Rating(out of 5)\": 5}, \"1011\": {\"name\": \"Lemongrass\", \"Brand\": \"Pacari\", \"Quantity\": 20, \"Price\": 20, \"Rating(out of 5)\": 4}, \"10012\": {\"name\": \"Golde berry\", \"Brand\": \"Pacari\", \"Quantity\": 20, \"Price\": 15, \"Rating(out of 5)\": 3.5}, \"10013\": {\"name\": \"Passion fruit\", \"Brand\": \"Pacari\", \"Quantity\": 20, \"Price\": 17, \"Rating(out of 5)\": 3}, \"1014\": {\"name\": \"Chilli exotic\", \"Brand\": \"Pacari\", \"Quantity\": 20, \"Price\": 15, \"Rating(out of 5)\": 4.5}, \"1015\": {\"name\": \"Amul Chocozoo\", \"Brand\": \"Amul\", \"Quantity\": 20, \"Price\": 20, \"Rating(out of 5)\": 5}, \"1016\": {\"name\": \"Amul wafer chocolates\", \"Brand\": \"Amul\", \"Quantity\": 20, \"Price\": 20, \"Rating(out of 5)\": 2}, \"1017\": {\"name\": \"Amul rejoice assorted chocolates.\", \"Brand\": \"Amul\", \"Quantity\": 20, \"Price\": 20, \"Rating(out of 5)\": 1}, \"1018\": {\"name\": \"Hide & Seek\", \"Brand\": \"Parle\", \"Quantity\": 20, \"Price\": 20, \"Rating(out of 5)\": 5}, \"1019\": {\"name\": \"Londonderry\", \"Brand\": \"Parle\", \"Quantity\": 20, \"Price\": 20, \"Rating(out of 5)\": 3.5}, \"1020\": {\"name\": \"2 in 1 Eclairs\", \"Brand\": \"Parle\", \"Quantity\": 20, \"Price\": 20, \"Rating(out of 5)\": 4.5}, \"1021\": {\"name\": \"m&m\", \"Brand\": \"Mars\", \"Quantity\": 20, \"Price\": 20, \"Rating(out of 5)\": 4}, \"1022\": {\"name\": \"Snickers\", \"Brand\": \"Mars\", \"Quantity\": 20, \"Price\": 20, \"Rating(out of 5)\": 3}, \"1023\": {\"name\": \"3 Musketeers\", \"Brand\": \"Mars\", \"Quantity\": 20, \"Price\": 20, \"Rating(out of 5)\": 5}, \"1024\": {\"name\": \"Twix\", \"Brand\": \"Mars\", \"Quantity\": 20, \"Price\": 20, \"Rating(out of 5)\": 3}, \"1025\": {\"name\": \"Lotus dark chocolate\", \"Brand\": \"Lotus\", \"Quantity\": 20, \"Price\": 20, \"Rating(out of 5)\": 5}, \"1026\": {\"name\": \"Campo Dark chocolate\", \"Brand\": \"Campo\", \"Quantity\": 20, \"Price\": 20, \"Rating(out of 5)\": 3.5}, \"1027\": {\"name\": \"Campo sugar free chocolate\", \"Brand\": \"Campo\", \"Quantity\": 20, \"Price\": 20, \"Rating(out of 5)\": 4.5}, \"1028\": {\"name\": \"Campo Soft and silky chocolate\", \"Brand\": \"Campo\", \"Quantity\": 20, \"Price\": 20, \"Rating(out of 5)\": 5}, \"1029\": {\"name\": \"Aero Carame\", \"Brand\": \"Netsle\", \"Quantity\": 20, \"Price\": 20, \"Rating(out of 5)\": 2}, \"1030\": {\"name\": \"Aero Dark\", \"Brand\": \"Netsle\", \"Quantity\": 20, \"Price\": 20, \"Rating(out of 5)\": 3}}'"
            ]
          },
          "metadata": {},
          "execution_count": 128
        }
      ]
    },
    {
      "cell_type": "code",
      "metadata": {
        "id": "mdM_oobu91KM"
      },
      "source": [
        "  record=json.loads(txt)"
      ],
      "execution_count": 129,
      "outputs": []
    },
    {
      "cell_type": "code",
      "metadata": {
        "id": "8EZ3jX1H98hl",
        "colab": {
          "base_uri": "https://localhost:8080/"
        },
        "outputId": "7a9d4357-a8c5-436a-d633-faffa8ae6e14"
      },
      "source": [
        "record"
      ],
      "execution_count": 130,
      "outputs": [
        {
          "output_type": "execute_result",
          "data": {
            "text/plain": [
              "{'1001': {'Brand': 'Cadbury',\n",
              "  'Price': 20,\n",
              "  'Quantity': 20,\n",
              "  'Rating(out of 5)': 3,\n",
              "  'name': 'Dairy Milk'},\n",
              " '10012': {'Brand': 'Pacari',\n",
              "  'Price': 15,\n",
              "  'Quantity': 20,\n",
              "  'Rating(out of 5)': 3.5,\n",
              "  'name': 'Golde berry'},\n",
              " '10013': {'Brand': 'Pacari',\n",
              "  'Price': 17,\n",
              "  'Quantity': 20,\n",
              "  'Rating(out of 5)': 3,\n",
              "  'name': 'Passion fruit'},\n",
              " '1002': {'Brand': 'Cadbury',\n",
              "  'Price': 30,\n",
              "  'Quantity': 20,\n",
              "  'Rating(out of 5)': 4,\n",
              "  'name': 'Perk'},\n",
              " '1003': {'Brand': 'Cadbury',\n",
              "  'Price': 10,\n",
              "  'Quantity': 20,\n",
              "  'Rating(out of 5)': 2,\n",
              "  'name': 'Fuse'},\n",
              " '1004': {'Brand': 'Cadbury',\n",
              "  'Price': 50,\n",
              "  'QWuantity': 18,\n",
              "  'Quantity': 18,\n",
              "  'Rating(out of 5)': 5,\n",
              "  'name': '5 Star'},\n",
              " '1005': {'Brand': 'Cadbury',\n",
              "  'Price': 60,\n",
              "  'Quantity': 20,\n",
              "  'Rating(out of 5)': 4,\n",
              "  'name': 'Bournville'},\n",
              " '1006': {'Brand': 'Cadbury',\n",
              "  'Price': 80,\n",
              "  'Quantity': 20,\n",
              "  'Rating(out of 5)': 2,\n",
              "  'name': 'Dairy Milk Silk'},\n",
              " '1007': {'Brand': 'Netsle',\n",
              "  'Price': 30,\n",
              "  'Quantity': 20,\n",
              "  'Rating(out of 5)': 4,\n",
              "  'name': 'Milky Bar'},\n",
              " '1008': {'Brand': 'Netsle',\n",
              "  'Price': 100,\n",
              "  'Quantity': 20,\n",
              "  'Rating(out of 5)': 5,\n",
              "  'name': 'KitKat'},\n",
              " '1009': {'Brand': 'Netsle',\n",
              "  'Price': 30,\n",
              "  'Quantity': 20,\n",
              "  'Rating(out of 5)': 5,\n",
              "  'name': 'Munch'},\n",
              " '1010': {'Brand': 'Netsle',\n",
              "  'Price': 10,\n",
              "  'Quantity': 20,\n",
              "  'Rating(out of 5)': 5,\n",
              "  'name': 'Bar One'},\n",
              " '1011': {'Brand': 'Pacari',\n",
              "  'Price': 20,\n",
              "  'Quantity': 20,\n",
              "  'Rating(out of 5)': 4,\n",
              "  'name': 'Lemongrass'},\n",
              " '1014': {'Brand': 'Pacari',\n",
              "  'Price': 15,\n",
              "  'Quantity': 20,\n",
              "  'Rating(out of 5)': 4.5,\n",
              "  'name': 'Chilli exotic'},\n",
              " '1015': {'Brand': 'Amul',\n",
              "  'Price': 20,\n",
              "  'Quantity': 20,\n",
              "  'Rating(out of 5)': 5,\n",
              "  'name': 'Amul Chocozoo'},\n",
              " '1016': {'Brand': 'Amul',\n",
              "  'Price': 20,\n",
              "  'Quantity': 20,\n",
              "  'Rating(out of 5)': 2,\n",
              "  'name': 'Amul wafer chocolates'},\n",
              " '1017': {'Brand': 'Amul',\n",
              "  'Price': 20,\n",
              "  'Quantity': 20,\n",
              "  'Rating(out of 5)': 1,\n",
              "  'name': 'Amul rejoice assorted chocolates.'},\n",
              " '1018': {'Brand': 'Parle',\n",
              "  'Price': 20,\n",
              "  'Quantity': 20,\n",
              "  'Rating(out of 5)': 5,\n",
              "  'name': 'Hide & Seek'},\n",
              " '1019': {'Brand': 'Parle',\n",
              "  'Price': 20,\n",
              "  'Quantity': 20,\n",
              "  'Rating(out of 5)': 3.5,\n",
              "  'name': 'Londonderry'},\n",
              " '1020': {'Brand': 'Parle',\n",
              "  'Price': 20,\n",
              "  'Quantity': 20,\n",
              "  'Rating(out of 5)': 4.5,\n",
              "  'name': '2 in 1 Eclairs'},\n",
              " '1021': {'Brand': 'Mars',\n",
              "  'Price': 20,\n",
              "  'Quantity': 20,\n",
              "  'Rating(out of 5)': 4,\n",
              "  'name': 'm&m'},\n",
              " '1022': {'Brand': 'Mars',\n",
              "  'Price': 20,\n",
              "  'Quantity': 20,\n",
              "  'Rating(out of 5)': 3,\n",
              "  'name': 'Snickers'},\n",
              " '1023': {'Brand': 'Mars',\n",
              "  'Price': 20,\n",
              "  'Quantity': 20,\n",
              "  'Rating(out of 5)': 5,\n",
              "  'name': '3 Musketeers'},\n",
              " '1024': {'Brand': 'Mars',\n",
              "  'Price': 20,\n",
              "  'Quantity': 20,\n",
              "  'Rating(out of 5)': 3,\n",
              "  'name': 'Twix'},\n",
              " '1025': {'Brand': 'Lotus',\n",
              "  'Price': 20,\n",
              "  'Quantity': 20,\n",
              "  'Rating(out of 5)': 5,\n",
              "  'name': 'Lotus dark chocolate'},\n",
              " '1026': {'Brand': 'Campo',\n",
              "  'Price': 20,\n",
              "  'Quantity': 20,\n",
              "  'Rating(out of 5)': 3.5,\n",
              "  'name': 'Campo Dark chocolate'},\n",
              " '1027': {'Brand': 'Campo',\n",
              "  'Price': 20,\n",
              "  'Quantity': 20,\n",
              "  'Rating(out of 5)': 4.5,\n",
              "  'name': 'Campo sugar free chocolate'},\n",
              " '1028': {'Brand': 'Campo',\n",
              "  'Price': 20,\n",
              "  'Quantity': 20,\n",
              "  'Rating(out of 5)': 5,\n",
              "  'name': 'Campo Soft and silky chocolate'},\n",
              " '1029': {'Brand': 'Netsle',\n",
              "  'Price': 20,\n",
              "  'Quantity': 20,\n",
              "  'Rating(out of 5)': 2,\n",
              "  'name': 'Aero Carame'},\n",
              " '1030': {'Brand': 'Netsle',\n",
              "  'Price': 20,\n",
              "  'Quantity': 20,\n",
              "  'Rating(out of 5)': 3,\n",
              "  'name': 'Aero Dark'}}"
            ]
          },
          "metadata": {},
          "execution_count": 130
        }
      ]
    },
    {
      "cell_type": "code",
      "metadata": {
        "id": "3AFN0MtZ_PQn",
        "colab": {
          "base_uri": "https://localhost:8080/"
        },
        "outputId": "d4524f30-1374-4b2c-9bf6-f728c389baaf"
      },
      "source": [
        "record['1004']"
      ],
      "execution_count": 131,
      "outputs": [
        {
          "output_type": "execute_result",
          "data": {
            "text/plain": [
              "{'Brand': 'Cadbury',\n",
              " 'Price': 50,\n",
              " 'QWuantity': 18,\n",
              " 'Quantity': 18,\n",
              " 'Rating(out of 5)': 5,\n",
              " 'name': '5 Star'}"
            ]
          },
          "metadata": {},
          "execution_count": 131
        }
      ]
    },
    {
      "cell_type": "code",
      "metadata": {
        "id": "c_AcVGguFs9L"
      },
      "source": [
        "\n",
        "    "
      ],
      "execution_count": null,
      "outputs": []
    }
  ]
}